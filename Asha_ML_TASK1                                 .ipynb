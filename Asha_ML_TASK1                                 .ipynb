{
 "cells": [
  {
   "cell_type": "code",
   "execution_count": 2,
   "id": "455ca608",
   "metadata": {},
   "outputs": [
    {
     "name": "stdout",
     "output_type": "stream",
     "text": [
      "Please give input number to find its factorial: 4\n",
      "Input number given is:  4\n",
      "\n",
      "The factorial of  4 is:  24\n"
     ]
    }
   ],
   "source": [
    "##Question-1:Writing a Python code to find factorial of given number without using in built function.\n",
    "import time\n",
    "\n",
    "#Taking input number into a variable\n",
    "input_num = int(input(\"Please give input number to find its factorial: \"))\n",
    "print(\"Input number given is: \", input_num)\n",
    "x = input_num\n",
    "fact = 1\n",
    "\n",
    "#Logic to find factorial of number with using inbuilt function 'fact()'\n",
    "for counter in range(input_num,0,-1):\n",
    "    fact = fact * counter\n",
    "\n",
    "time.sleep(1)\n",
    "#Output is stored in fact variable\n",
    "print(\"\\nThe factorial of \", input_num, \"is: \", fact)"
   ]
  },
  {
   "cell_type": "code",
   "execution_count": 10,
   "id": "f431c559",
   "metadata": {},
   "outputs": [
    {
     "name": "stdout",
     "output_type": "stream",
     "text": [
      "What is my name? Darth Vader\n",
      "Luke! I am Darth Vader. I am your father\n"
     ]
    }
   ],
   "source": [
    "##Q2.Return the relation to Luke Skywalker if given any name as input\n",
    "##Improveised the given problem\n",
    "\n",
    "#Main function\n",
    "person_name = input(\"What is my name? \")\n",
    "\n",
    "#Function to get their relation with Luke\n",
    "def relation_to_Luke(name):\n",
    "    if (name == 'Darth Vader'):\n",
    "        return(\"I am your father\", name)\n",
    "    elif (name == 'Leia'):\n",
    "        return(\"I am your sister\", name)\n",
    "    elif (name == 'Han'):\n",
    "        return(\"I am your brother in law\", name)\n",
    "    elif (name == 'R2D2'):\n",
    "        return(\"I am your droid\", name)\n",
    "    else:\n",
    "        name = \"non of your relation\"\n",
    "        return(\"I am a stranger\", name)\n",
    "if __name__ == \"__main__\":\n",
    "    relation, person_name = relation_to_Luke(person_name)\n",
    "    print(\"Luke! I am \"+person_name+\". \"+relation)"
   ]
  },
  {
   "cell_type": "code",
   "execution_count": 14,
   "id": "ec49dd2c",
   "metadata": {},
   "outputs": [
    {
     "name": "stdout",
     "output_type": "stream",
     "text": [
      "Enter any non zero positive number to find its number of digits: 789321456987\n",
      "The number of digits of a given number  789321456987  is:  12\n"
     ]
    }
   ],
   "source": [
    "##Q3.Without using inbuilt function, find the number of digits of a number\n",
    "\n",
    "in_num = int(input(\"Enter any non zero positive number to find its number of digits: \"))\n",
    "\n",
    "def digits_calc(num):\n",
    "    digit = 0\n",
    "    while (num != 0):\n",
    "        digit += 1\n",
    "        num //= 10 ##integer division\n",
    "    return digit\n",
    "\n",
    "if __name__ == \"__main__\":\n",
    "    Number_of_digits = digits_calc(in_num)\n",
    "    print(\"The number of digits of a given number \", in_num, \" is: \", Number_of_digits)\n"
   ]
  },
  {
   "cell_type": "code",
   "execution_count": 15,
   "id": "d3ff4744",
   "metadata": {},
   "outputs": [
    {
     "name": "stdout",
     "output_type": "stream",
     "text": [
      "Enter any number to find its multiplication of factorial: 7\n",
      "The multiplication of factorials of 7 is: 125411328000\n"
     ]
    }
   ],
   "source": [
    "##Q4.Multiplication of Factorial of any given number without using inbuilt functions\n",
    "\n",
    "in_num = int(input(\"Enter any number to find its multiplication of factorial: \"))\n",
    "\n",
    "def prod_fact(num):\n",
    "    prod = 1\n",
    "    while (num > 1):\n",
    "        fact = 1\n",
    "        for counter in range(num,0,-1):\n",
    "            fact = fact*counter\n",
    "        prod = prod*fact\n",
    "        num -= 1\n",
    "    return prod\n",
    "\n",
    "if __name__ == \"__main__\":\n",
    "    result = prod_fact(in_num)\n",
    "    print(\"The multiplication of factorials of \" + str(in_num) + \" is: \" + str(result))"
   ]
  },
  {
   "cell_type": "code",
   "execution_count": 19,
   "id": "7bc003ec",
   "metadata": {},
   "outputs": [
    {
     "name": "stdout",
     "output_type": "stream",
     "text": [
      "Enter the number of inputs for which you are going to calculate: 6\n",
      "Enter the value1: 1\n",
      "Enter the value2: 2\n",
      "Enter the value3: 3\n",
      "Enter the value4: 4\n",
      "Enter the value5: 5\n",
      "Enter the value6: 6\n",
      "The collection of given inputs:  [1, 2, 3, 4, 5, 6]\n",
      "sqr(1)+sqr(2)+sqr(3)+sqr(4)+sqr(5)+sqr(6)+...=  91\n"
     ]
    }
   ],
   "source": [
    "##Q5.Program to find sum of squares of given inputs without using built-in functions a2 + b2 + c2 ...\n",
    "\n",
    "num_in = int(input(\"Enter the number of inputs for which you are going to calculate: \"))\n",
    "in_list = []\n",
    "\n",
    "for cnt in range(num_in, 0, -1):\n",
    "    in_num = int(input(\"Enter the value\" + str(num_in-cnt+1) + \": \"))\n",
    "    in_list.append(in_num)\n",
    "\n",
    "print(\"The collection of given inputs: \",in_list)\n",
    "\n",
    "def sum_squares(list_):\n",
    "    sum_ = 0\n",
    "    for list_item in list_:\n",
    "        square = list_item * list_item\n",
    "        sum_ = sum_ + square\n",
    "    return sum_\n",
    "\n",
    "if __name__ == \"__main__\":\n",
    "    result = sum_squares(in_list)\n",
    "\n",
    "    #print(\"The sum of sqares of given input list of items is: \", result)\n",
    "    for i in in_list:\n",
    "        print('sqr(' + str(i) + ')+', end = '')\n",
    "    print(\"...= \", result)"
   ]
  },
  {
   "cell_type": "code",
   "execution_count": 21,
   "id": "14eb8888",
   "metadata": {},
   "outputs": [
    {
     "name": "stdout",
     "output_type": "stream",
     "text": [
      "Please enter the value of operand1: 6\n",
      "Please enter the value of operand2: 3\n",
      "Please enter the type of operation to do between operand_1 and operand_2: *\n",
      "Operation  ' * ' between  6 and 3  is:  18\n"
     ]
    }
   ],
   "source": [
    "##Q6.Function to find operation between operators\n",
    "\n",
    "operand_1 = int(input(\"Please enter the value of operand1: \"))\n",
    "operand_2 = int(input(\"Please enter the value of operand2: \"))\n",
    "operator = input(\"Please enter the type of operation to do between operand_1 and operand_2: \")\n",
    "\n",
    "def operation(op1,op2,op):\n",
    "    if op == '+':\n",
    "        return(op1 + op2)\n",
    "    elif op == '-':\n",
    "        return(op1 - op2)\n",
    "    elif op == '*':\n",
    "        return(op1 * op2)\n",
    "    elif op == '/':\n",
    "        return(op1 / op2)\n",
    "\n",
    "\n",
    "if __name__ == \"__main__\":\n",
    "    result = operation(operand_1,operand_2,operator)\n",
    "    print(\"Operation \", \"'\", operator, \"'\", \"between \", operand_1, \"and\", operand_2, \" is: \", result)"
   ]
  },
  {
   "cell_type": "code",
   "execution_count": 28,
   "id": "907efff0",
   "metadata": {},
   "outputs": [
    {
     "name": "stdout",
     "output_type": "stream",
     "text": [
      "Enter a numeric positive integer: 4\n",
      "The given number is:  4 \n",
      "\n",
      "I CAN\tI WILL\tI CAN\tI WILL\t"
     ]
    }
   ],
   "source": [
    "##Q7.Print strings as per given inputs\n",
    "\n",
    "in_num = int(input(\"Enter a numeric positive integer: \"))\n",
    "print(\"The given number is: \", in_num, '\\n')\n",
    "\n",
    "def print_string(num):\n",
    "    count = 1\n",
    "    \n",
    "    while count<=num:\n",
    "        if count%2 == 1:\n",
    "            print(\"I CAN\\t\", end='')\n",
    "        else:\n",
    "            print(\"I WILL\\t\",end='')\n",
    "        count += 1\n",
    "\n",
    "    \n",
    "print_string(in_num)\n"
   ]
  },
  {
   "cell_type": "code",
   "execution_count": 30,
   "id": "52672c2b",
   "metadata": {},
   "outputs": [
    {
     "name": "stdout",
     "output_type": "stream",
     "text": [
      "Enter the item based on color of gloves seperated by comma: red,yellow,pik,red,pik\n",
      "Given items based on colors are:  ['red', 'yellow', 'pik', 'red', 'pik']\n",
      "Unique items among the given list are:  ['red', 'yellow', 'pik']\n",
      "\n",
      "The number of red in the given list is:  2\n",
      "The number of pair of red in the given list is:  1\n",
      "The number of unpaired  red in the given list is:  0\n",
      "\n",
      "The number of yellow in the given list is:  1\n",
      "The number of pair of yellow in the given list is:  0\n",
      "The number of unpaired  yellow in the given list is:  1\n",
      "\n",
      "The number of pik in the given list is:  2\n",
      "The number of pair of pik in the given list is:  1\n",
      "The number of unpaired  pik in the given list is:  0\n",
      "\n",
      "The total number of pairs is:  2\n",
      "The total number of odd gloves left is:  1\n"
     ]
    }
   ],
   "source": [
    "##Q8.Determine the number of pair of each glove with matching color\n",
    "\n",
    "list_ = [num for num in input(\"Enter the item based on color of gloves seperated by comma: \").split(',')]\n",
    "\n",
    "str_list = [str(item) for item in list_]\n",
    "print(\"Given items based on colors are: \", str_list)\n",
    "\n",
    "\n",
    "def count_pairs(list_):\n",
    "    pair = 0\n",
    "    unpair = 0\n",
    "    up_list = []\n",
    "    for item in list_:\n",
    "        if item not in up_list:\n",
    "            up_list.append(item)\n",
    "    print(\"Unique items among the given list are: \",up_list)\n",
    "\n",
    "    for item in up_list:\n",
    "        cnt = 0\n",
    "        for i in list_:\n",
    "            if item == i:\n",
    "                cnt += 1\n",
    "        print(\"\\nThe number of\", item, \"in the given list is: \", cnt)\n",
    "        print(\"The number of pair of\", item, \"in the given list is: \", cnt//2)\n",
    "        pair = pair + cnt//2\n",
    "        print(\"The number of unpaired \", item, \"in the given list is: \", cnt%2)\n",
    "        unpair = unpair + cnt%2\n",
    "    return pair, unpair\n",
    "\n",
    "if __name__ == \"__main__\":\n",
    "    pair, unpair = count_pairs(list_)\n",
    "    print(\"\\nThe total number of pairs is: \", pair)\n",
    "    print(\"The total number of odd gloves left is: \", unpair)"
   ]
  },
  {
   "cell_type": "code",
   "execution_count": 32,
   "id": "cc757538",
   "metadata": {},
   "outputs": [
    {
     "name": "stdout",
     "output_type": "stream",
     "text": [
      "Enter only list of items in first list seperating items by comma: 1,5,9\n",
      "Enter only list of items in second list seperating items by comma: 6,8,3\n",
      "\n",
      "The first given list is:  [1, 5, 9]\n",
      "The second given list is:  [6, 8, 3]\n",
      "\n",
      "Combined list of given lists:  [1, 3, 5, 6, 8, 9]\n",
      "\n",
      "False! The combined list is not in order\n"
     ]
    }
   ],
   "source": [
    "##Q9.Find if the array formed by combining two lists is in sequence\n",
    "import time\n",
    "\n",
    "list1 = []\n",
    "list1 = [int(item) for item in (input(\"Enter only list of items in first list seperating items by comma: \")).split(',')]\n",
    "list2 = []\n",
    "list2 = [int(item) for item in (input(\"Enter only list of items in second list seperating items by comma: \")).split(',')]\n",
    "\n",
    "print(\"\\nThe first given list is: \", list1)\n",
    "print(\"The second given list is: \", list2)\n",
    "\n",
    "time.sleep(2)\n",
    "\n",
    "def consecutive_combo(l1,l2):\n",
    "    list_ = l1 + l2\n",
    "    list_.sort()\n",
    "    print('\\nCombined list of given lists: ', list_)\n",
    "    \n",
    "    for counter in range(0,len(list_)-1,1):\n",
    "        diff = list_[counter+1]-list_[counter]\n",
    "    \n",
    "        if diff != 1:\n",
    "            return \"\\nFalse! The combined list is not in order\"\n",
    "        else:\n",
    "            continue\n",
    "        \n",
    "    return \"\\nTrue! The combined list is in order\"\n",
    "\n",
    "if __name__ == \"__main__\":\n",
    "    time.sleep(2)\n",
    "    result = consecutive_combo(list1, list2)\n",
    "    time.sleep(2)\n",
    "    print(result)"
   ]
  },
  {
   "cell_type": "code",
   "execution_count": 33,
   "id": "1fd2cd13",
   "metadata": {},
   "outputs": [
    {
     "name": "stdout",
     "output_type": "stream",
     "text": [
      "The profit per unit is:  12.329999999999998\n",
      "The accurate total profit for whole inventory ignoring all other assumptions is: 14795.999999999998\n",
      "\n",
      "The approximate total profit for whole inventory ignoring all other assumptions is: 14796\n"
     ]
    }
   ],
   "source": [
    "##Q10.Find the profit for given dictionary\n",
    "data = {\n",
    "    \"cost price\": 32.67,\n",
    "    \"sell price\": 45.00,\n",
    "    \"inventory\":  1200}\n",
    "\n",
    "print(\"The profit per unit is: \", data[\"sell price\"] - data[\"cost price\"]) #profit_per_unit\n",
    "approx_value = round((data[\"sell price\"] - data[\"cost price\"])* data[\"inventory\"])\n",
    "print(\"The accurate total profit for whole inventory ignoring all other assumptions is:\", (data[\"sell price\"] - data[\"cost price\"])* data[\"inventory\"])\n",
    "print(\"\\nThe approximate total profit for whole inventory ignoring all other assumptions is:\", approx_value)\n"
   ]
  },
  {
   "cell_type": "code",
   "execution_count": null,
   "id": "95125d56",
   "metadata": {},
   "outputs": [],
   "source": []
  }
 ],
 "metadata": {
  "kernelspec": {
   "display_name": "Python 3 (ipykernel)",
   "language": "python",
   "name": "python3"
  },
  "language_info": {
   "codemirror_mode": {
    "name": "ipython",
    "version": 3
   },
   "file_extension": ".py",
   "mimetype": "text/x-python",
   "name": "python",
   "nbconvert_exporter": "python",
   "pygments_lexer": "ipython3",
   "version": "3.9.7"
  }
 },
 "nbformat": 4,
 "nbformat_minor": 5
}
